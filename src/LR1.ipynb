{
 "cells": [
  {
   "attachments": {},
   "cell_type": "markdown",
   "id": "956d730e",
   "metadata": {},
   "source": [
    "Лабораторная работа №1"
   ]
  },
  {
   "attachments": {},
   "cell_type": "markdown",
   "id": "58f5e9d0",
   "metadata": {},
   "source": [
    "Библиотеки"
   ]
  },
  {
   "cell_type": "code",
   "execution_count": 4,
   "id": "963fc826",
   "metadata": {},
   "outputs": [],
   "source": [
    "from pathlib import Path\n",
    "import pandas as pd\n",
    "import numpy as np"
   ]
  },
  {
   "cell_type": "code",
   "execution_count": 2,
   "id": "0c6b9c4a-5cb7-4f6d-a8b3-a0b8b280d6da",
   "metadata": {},
   "outputs": [
    {
     "name": "stdout",
     "output_type": "stream",
     "text": [
      "24. Shaymardanov Emil Albertovich BIV205. Option - 4 монеты\n"
     ]
    }
   ],
   "source": [
    "list_number = 24\n",
    "tasks = {\n",
    "    0: 'окна/двери на здании, расположенном по фронту изображения',\n",
    "    1: 'окна/двери на здании, уходящем в перспективу',\n",
    "    2: 'линия горизонта',\n",
    "    3: 'здания с покатой крышей на горизонте',\n",
    "    4: 'монеты',\n",
    "    5: 'книга / планшет / телефон',\n",
    "    6: 'книги на полке',\n",
    "    7: 'лестница',\n",
    "    8: 'произвольно (до некоторой степени) ориентированный лист белой бумаги',\n",
    "    9: 'рисунок ткани “шотландка'\n",
    "}\n",
    "print(f\"{list_number}. Shaymardanov Emil Albertovich BIV205. Option - {list_number % 10} {tasks[list_number % 10]}\")"
   ]
  }
 ],
 "metadata": {
  "kernelspec": {
   "display_name": "venv",
   "language": "python",
   "name": "python3"
  },
  "language_info": {
   "codemirror_mode": {
    "name": "ipython",
    "version": 3
   },
   "file_extension": ".py",
   "mimetype": "text/x-python",
   "name": "python",
   "nbconvert_exporter": "python",
   "pygments_lexer": "ipython3",
   "version": "3.11.1"
  },
  "vscode": {
   "interpreter": {
    "hash": "d800b4fb88a101c3e677e31dc537567c03bb12cff24b6c3f6e3fcc0a7b2b26e4"
   }
  }
 },
 "nbformat": 4,
 "nbformat_minor": 5
}
