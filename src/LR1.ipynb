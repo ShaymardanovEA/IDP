{
 "cells": [
  {
   "attachments": {},
   "cell_type": "markdown",
   "id": "956d730e",
   "metadata": {},
   "source": [
    "Лабораторная работа №1"
   ]
  },
  {
   "cell_type": "code",
   "execution_count": 2,
   "id": "0c6b9c4a-5cb7-4f6d-a8b3-a0b8b280d6da",
   "metadata": {},
   "outputs": [
    {
     "name": "stdout",
     "output_type": "stream",
     "text": [
      "24. Shaymardanov Emil Albertovich BIV205. Option - 4 монеты\n"
     ]
    }
   ],
   "source": [
    "list_number = 24\n",
    "tasks = {\n",
    "    0: 'окна/двери на здании, расположенном по фронту изображения',\n",
    "    1: 'окна/двери на здании, уходящем в перспективу',\n",
    "    2: 'линия горизонта',\n",
    "    3: 'здания с покатой крышей на горизонте',\n",
    "    4: 'монеты',\n",
    "    5: 'книга / планшет / телефон',\n",
    "    6: 'книги на полке',\n",
    "    7: 'лестница',\n",
    "    8: 'произвольно (до некоторой степени) ориентированный лист белой бумаги',\n",
    "    9: 'рисунок ткани “шотландка'\n",
    "}\n",
    "print(f\"{list_number}. Shaymardanov Emil Albertovich BIV205. Option - {list_number % 10} {tasks[list_number % 10]}\")"
   ]
  },
  {
   "attachments": {},
   "cell_type": "markdown",
   "id": "58f5e9d0",
   "metadata": {},
   "source": [
    "Библиотеки"
   ]
  },
  {
   "cell_type": "code",
   "execution_count": null,
   "id": "963fc826",
   "metadata": {},
   "outputs": [
    {
     "ename": "",
     "evalue": "",
     "output_type": "error",
     "traceback": [
      "\u001b[1;31mДля выполнения ячеек с \"c:\\Users\\eshay\\AppData\\Local\\Microsoft\\WindowsApps\\python3.11.exe\" требуется пакет ipykernel.\n",
      "\u001b[1;31mВыполните следующую команду, чтобы установить \"ipykernel\" в среде Python. \n",
      "\u001b[1;31mКоманда: \"c:/Users/eshay/AppData/Local/Microsoft/WindowsApps/python3.11.exe -m pip install ipykernel -U --user --force-reinstall\""
     ]
    }
   ],
   "source": [
    "from pathlib import Path\n",
    "import pandas as pd\n",
    "import numpy as np\n",
    "from PIL import Image\n",
    "import matplotlib.pyplot as plt"
   ]
  },
  {
   "cell_type": "code",
   "execution_count": 19,
   "id": "de0f607d",
   "metadata": {},
   "outputs": [],
   "source": [
    "coins_count_path = Path(\"../data/coins/coins_count_values.csv\")\n",
    "coins_images_path = Path(\"../data/coins/coins_images\")"
   ]
  },
  {
   "cell_type": "code",
   "execution_count": 30,
   "id": "b58844df",
   "metadata": {},
   "outputs": [
    {
     "ename": "SyntaxError",
     "evalue": "expected ':' (1964293532.py, line 1)",
     "output_type": "error",
     "traceback": [
      "\u001b[1;36m  Cell \u001b[1;32mIn[30], line 1\u001b[1;36m\u001b[0m\n\u001b[1;33m    def check_coins_count(df: DataFrame)\u001b[0m\n\u001b[1;37m                                        ^\u001b[0m\n\u001b[1;31mSyntaxError\u001b[0m\u001b[1;31m:\u001b[0m expected ':'\n"
     ]
    }
   ],
   "source": [
    "def check_coins_count(df: pd.DataFrame, image_name: Path, find_coins: int) -> bool:\n",
    "    result = True\n",
    "    df.where()\n",
    "\n",
    "    return result"
   ]
  },
  {
   "cell_type": "code",
   "execution_count": 29,
   "id": "d5b0d918",
   "metadata": {},
   "outputs": [],
   "source": [
    "folders = ['all_coins']\n",
    "coins_all_count_df = pd.read_csv(coins_count_path.resolve())\n",
    "coins_count_df = coins_all_count_df.loc[coins_all_count_df['folder'] == 'all_coins']"
   ]
  }
 ],
 "metadata": {
  "kernelspec": {
   "display_name": "Python 3",
   "language": "python",
   "name": "python3"
  },
  "language_info": {
   "codemirror_mode": {
    "name": "ipython",
    "version": 3
   },
   "file_extension": ".py",
   "mimetype": "text/x-python",
   "name": "python",
   "nbconvert_exporter": "python",
   "pygments_lexer": "ipython3",
   "version": "3.11.1 (tags/v3.11.1:a7a450f, Dec  6 2022, 19:58:39) [MSC v.1934 64 bit (AMD64)]"
  },
  "vscode": {
   "interpreter": {
    "hash": "3fc56fe0cbb105fa0e81bbaf12e72b6d52c7e8d48f09de81b6422947392f777d"
   }
  }
 },
 "nbformat": 4,
 "nbformat_minor": 5
}
